{
 "cells": [
  {
   "cell_type": "markdown",
   "metadata": {},
   "source": [
    "#### 阅读了几个网页，分析用到的css3设计特色，提取一些有用的点并记录 "
   ]
  },
  {
   "cell_type": "markdown",
   "metadata": {},
   "source": [
    "一、百度北京大学吧和主页的对比    \n",
    "1、整体设计  \n",
    "中规中矩的国内贴吧主页，具备一般的论坛交互要素同时符合百度系列网站的整体风格     \n",
    "2、用到的技术点   \n",
    "签到的位置和关注等使用了常用的hover过渡，使用的是rgba亮度变化，放到帖子题目上面显示text-decoration: underline下划线效果\n",
    "格式类型的定义用到了继承，比如继承自html，从原有的抽象模板出发添加独特的属性设置并指到对应的组件上\n",
    "布局：贴吧特有的贴边小方块广告，flaot:right放在最右侧\n",
    "图片：北大的校徽图标用的是absolute position，旁边的“北京大学吧”字样采用了border和margin的布局\n",
    "动画：到现在不支持帖子gif预览，只有广告才有嵌入\n",
    "批处理： 对选出的一系列object使用call.apply(n,[...].concate())\n",
    "可选display:inline内联元素显示，默认不换行\n",
    "挑刺：吧内搜索的输入框还是互联网古早版本，不带边缘修饰的方块输入框显得格格不入，尤其是重要的吧内搜索占据的空间太小，不够用户直观展现、删除的属性过多，不便检查和分析优先级；优点是继承性较好\n",
    "link的：before和：after操作 \n",
    "使用了video的transform:translate(-50%,-50%)进行平移   \n",
    "3、代码\n"
   ]
  },
  {
   "cell_type": "code",
   "execution_count": null,
   "metadata": {},
   "outputs": [],
   "source": [
    "element.style {\n",
    "}\n",
    "* {\n",
    "    box-sizing: content-box;\n",
    "}\n",
    ":before, :after {\n",
    "    box-sizing: content-box;\n",
    "}\n",
    "html {\n",
    "    font-size: 10px;\n",
    "    -webkit-tap-highlight-color: rgba(0,0,0,0);\n",
    "}\n",
    "html {\n",
    "    -ms-text-size-adjust: 100%;\n",
    "    -webkit-text-size-adjust: 100%;\n",
    "}"
   ]
  },
  {
   "cell_type": "markdown",
   "metadata": {},
   "source": [
    "二、美国大使馆官网   \n",
    "1、设计评价   \n",
    "更干净的页面布局，政府官网不会带有广告，整体呈对称结构，图片尺寸较大，栏目之间切换浏览需要滑动，这也是大部分国际机构常有的特征来表现正式和大气    \n",
    "2、布局特征    \n",
    "具体到实现就是更打的width和height，更大的组件border    \n",
    "向左滑动的大型图片（长条状图片），间隔相同的inteval时间slice一张图片，也许不是节约传输空间的原因，更像是便于管理或者说遵照规范  \n",
    "svg的使用：绘制图标和按键class（真的是直接绘制右上角搜索图标和栏目图标）  \n",
    "<noscript></noscript>  定义在脚本未被执行时的替代内容或者文本   \n",
    "3、代码示例   "
   ]
  },
  {
   "cell_type": "code",
   "execution_count": null,
   "metadata": {},
   "outputs": [],
   "source": [
    "ul {\n",
    "      width: 2000px;\n",
    "      animation: move 10s infinite linear;\n",
    "    }\n",
    "@keyframes move {\n",
    "    to {\n",
    "    /*7张图片正好全部走出盒子，留出来的空白部分，由后面那三张图片当替身补上*/\n",
    "        transform: translateX(-1400px);\n",
    "    }\n",
    "}\n",
    "\n",
    ".box ul:hover {\n",
    "/*鼠标经过li后，动画暂停*/\n",
    "animation-play-state: paused;\n",
    "}\n",
    "\n",
    "/* svg */\n",
    "<svg xmlns=\"http://www.w3.org/2000/svg\" viewBox=\"0 0 0 0\" width=\"0\" height=\"0\" focusable=\"false\" role=\"none\" style=\"visibility: \n",
    "hidden; position: absolute; left: -9999px; overflow: hidden;\"><defs><filter id=\"\n",
    "wp-duotone-dark-grayscale\"><feColorMatrix color-interpolation-filters=\"sRGB\" \n",
    "type=\"matrix\" values=\" .299 .587 .114 0 0 .299 .587 .114 0 0 .299 .587 .114 0 0 .299 .587 .114 0 0 \">\n",
    "</feColorMatrix><feComponentTransfer color-interpolation-filters=\"sRGB\"><feFuncR type=\"table\" tableValues=\"0 0.49803921568627\">\n",
    "</feFuncR><feFuncG type=\"table\" tableValues=\"0 0.49803921568627\"></feFuncG><feFuncB type=\"table\" tableValues=\"0 0.49803921568627\">\n",
    "</feFuncB><feFuncA type=\"table\" tableValues=\"1 1\"></feFuncA></feComponentTransfer><feComposite in2=\"SourceGraphic\" operator=\"in\">\n",
    "</feComposite></filter></defs></svg>    \n",
    "\n"
   ]
  },
  {
   "cell_type": "markdown",
   "metadata": {},
   "source": [
    "三、艺术类型的主页：私人航空公司Jet Edge    \n",
    "    \n",
    "1、单栏布局，从上到下滑动，没有多余的区块，配色使用大区快的同色，以蓝色系为主，是现代个人网页设计简约理念的实现  \n",
    "书写上简介明了，和前面的两个数百行的html相比body部分只简单分出了大约十个div和img区段    \n",
    "2、背景动画的特色突出   \n",
    "全屏视差切换技术，图片左右以比一般速度漫一些的速度滑动来模拟飞行的效果   \n",
    "3、其他  \n",
    "flex布局 \n",
    "比较长的类型引用路径（继承路径）比如.body.white.new.home，类似面向对象里面类继承的这种写法  \n",
    "@media写法，根据一个或多个媒体查询的结果来应用花括号内样式表的某一部分（往往是以@media screen的写法出现  \n",
    "选择器优先级方面inherit !important的应用：先通过指定来确定指定值（specified value），接着处理得到一个用于继承的计算值（computed value），然后如果有必要的话转化为一个绝对应用值（used value），最后根据本地环境限制进行转换实际值（actual value）.每个属性可能有一个'inherit'层叠值，表示对于一个给定的元素，属性采用与其父级属性相同的指定值,可以用来实现值的继承，也可以用在那些一般不继承的属性上.   \n",
    "display:black对元素做块级显示，特别适合用在这种分区简化的网页\n",
    "background-repeat背景平铺格式  \n",
    "position: static静态位置定位\n"
   ]
  },
  {
   "cell_type": "code",
   "execution_count": null,
   "metadata": {},
   "outputs": [],
   "source": [
    "<style>\n",
    "    * { margin: 0; padding: 0 }\n",
    "    body { text-align: center; width: 100%; }\n",
    "    html { overflow-y: scroll }\n",
    "    button { border: 0 }\n",
    "    li { list-style: none }\n",
    "    img { border: 0; }\n",
    "    a { color: #06c; text-decoration: none; cursor: pointer; outline: none; hide-focus:expression(this.hideFocus = true);}\n",
    "    a:hover { color: #06c; text-decoration: underline }\n",
    "    .clear{content:\"\";display:block;visibility:hidden;height:0;clear:both;}\n",
    "    .clear{zoom:1}\n",
    "</style>\n",
    "\n",
    "<style>\n",
    "#main { width: 100%; margin: auto }\n",
    ".header { width: 100%; height: 1080px; overflow: hidden; position: relative; background: url(\"a.png\") center center no-repeat; \n",
    "    background-attachment: fixed; background-size: cover; }\n",
    ".header2 { background: url(\"b.png\") center center no-repeat; background-attachment: fixed; background-size: cover; }\n",
    ".text { position: absolute; top: 30%; left: 300px; }\n",
    ".text p { font-size: 30px; font-family: \"微软雅黑\"尝试; color: #fff; }\n",
    ".bg-attachment { background: url(\"c.png\") center center no-repeat; background-attachment: fixed; background-size: cover; }\n",
    ".bg-attachment .shadow { width: 100%; height: 1080px; overflow: hidden; margin: auto; }\n",
    ".div2 { background: url(\"d.png\") center center no-repeat; background-attachment: fixed; background-size: cover; }\n",
    "</style>"
   ]
  },
  {
   "cell_type": "markdown",
   "metadata": {},
   "source": [
    "四、TC39（js标准委员会官网）  \n",
    "1、layout设计最简约清晰，html表面只有分区和src，其他所有细节都交由css3负责    \n",
    "是一个标准的分块为主要布局的网页设计   \n",
    "2、一些用法  \n",
    "伪::before 和after元素\n",
    "`\n",
    "*::after {\n",
    "    box-sizing: border-box;\n",
    "}\n",
    "`   \n",
    "网格布局父容器    \n",
    "`\n",
    ".page-footer .grid-container {\n",
    "    padding: 40px 0;\n",
    "    margin: 0 auto;\n",
    "    overflow: auto;\n",
    "    border-top: solid 1px #ddd;\n",
    "}   \n",
    "`   \n",
    "注入的样式表  \n",
    "`\n",
    "#tip-arrow-bottom, #tip-arrow-top {\n",
    "    visibility: hidden;\n",
    "    z-index: 10003;\n",
    "    width: 15px;\n",
    "    height: 12px;\n",
    "    font-size: 0px;\n",
    "}\n",
    "`"
   ]
  }
 ],
 "metadata": {
  "language_info": {
   "name": "python"
  },
  "orig_nbformat": 4
 },
 "nbformat": 4,
 "nbformat_minor": 2
}
